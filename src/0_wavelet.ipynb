{
 "cells": [
  {
   "cell_type": "code",
   "execution_count": 9,
   "metadata": {},
   "outputs": [],
   "source": [
    "import pandas as pd\n",
    "import numpy as np\n",
    "from PIL import Image\n",
    "import os\n",
    "import pywt\n",
    "from natsort import natsorted"
   ]
  },
  {
   "cell_type": "code",
   "execution_count": 10,
   "metadata": {},
   "outputs": [],
   "source": [
    "IMG_PATH = 'data/'"
   ]
  },
  {
   "cell_type": "code",
   "execution_count": 11,
   "metadata": {},
   "outputs": [],
   "source": [
    "def get_vector_from_image(image, iterations):\n",
    "    \"\"\"\n",
    "    get_vector_from_image obtiene el vector característico de la imagen image\n",
    "\n",
    "    :param image: Imagen en formato vector.\n",
    "    :param iterations: Entero que indica la cantidad de veces que se aplica el wavelet a la imagen.\n",
    "    :return LL.flatten(): Vector característico en 1D.\n",
    "    \"\"\"\n",
    "    LL, (LH, HL, HH) = pywt.dwt2(image, 'haar')\n",
    "    for _ in range(iterations - 1):\n",
    "        LL, (LH, HL, HH) = pywt.dwt2(LL, 'haar')\n",
    "    return LL.flatten()\n"
   ]
  },
  {
   "cell_type": "code",
   "execution_count": 12,
   "metadata": {},
   "outputs": [],
   "source": [
    "def generate_data(src_dir, iterations, width=100, height=100):\n",
    "\n",
    "    data = []\n",
    "\n",
    "    for train_img in natsorted(os.listdir(src_dir + 'images/')):\n",
    "        image_path = f\"{src_dir}/images/{train_img}\"\n",
    "        img = Image.open(image_path)\n",
    "        newsize = (width, height)\n",
    "        img = img.resize(newsize)\n",
    "        fv = get_vector_from_image(img, iterations)\n",
    "        data.append(fv)\n",
    "        np.savetxt(f\"{src_dir}/{iterations}_cortes/{train_img[:-4]}.csv\", fv, delimiter=',', fmt='%d')\n",
    "    print(f\"Tamaño del vector caracteristica con {iterations} cortes: {len(fv)}\")\n",
    "    return np.asarray(data)\n"
   ]
  },
  {
   "cell_type": "code",
   "execution_count": 13,
   "metadata": {},
   "outputs": [
    {
     "name": "stdout",
     "output_type": "stream",
     "text": [
      "Tamaño del vector caracteristica con 3 cortes: 1300\n",
      "Tamaño del vector caracteristica con 4 cortes: 700\n",
      "Tamaño del vector caracteristica con 5 cortes: 400\n",
      "Tamaño del vector caracteristica con 6 cortes: 200\n",
      "Tamaño del vector caracteristica con 7 cortes: 100\n",
      "Tamaño del vector caracteristica con 8 cortes: 100\n"
     ]
    }
   ],
   "source": [
    "for i in range(3,9):\n",
    "    data = generate_data(src_dir= IMG_PATH, iterations=i, width=100, height=100)"
   ]
  }
 ],
 "metadata": {
  "interpreter": {
   "hash": "60ba1e9c20a97bab95adc8fa7cd7536eabf7ae0f08621d987aa706dba1e5c7d3"
  },
  "kernelspec": {
   "display_name": "Python 3.7.6 ('base')",
   "language": "python",
   "name": "python3"
  },
  "language_info": {
   "codemirror_mode": {
    "name": "ipython",
    "version": 3
   },
   "file_extension": ".py",
   "mimetype": "text/x-python",
   "name": "python",
   "nbconvert_exporter": "python",
   "pygments_lexer": "ipython3",
   "version": "3.7.6"
  },
  "orig_nbformat": 4
 },
 "nbformat": 4,
 "nbformat_minor": 2
}
