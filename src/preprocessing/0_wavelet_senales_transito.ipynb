{
 "cells": [
  {
   "cell_type": "code",
   "execution_count": 4,
   "metadata": {},
   "outputs": [],
   "source": [
    "import pandas as pd\n",
    "import numpy as np\n",
    "from PIL import Image\n",
    "import os\n",
    "import pywt\n",
    "from natsort import natsorted"
   ]
  },
  {
   "cell_type": "code",
   "execution_count": 32,
   "metadata": {},
   "outputs": [],
   "source": [
    "IMG_PATH = '../data/senales_transito/'"
   ]
  },
  {
   "cell_type": "code",
   "execution_count": 17,
   "metadata": {},
   "outputs": [],
   "source": [
    "def get_vector_from_image(image, iterations):\n",
    "    \"\"\"\n",
    "    get_vector_from_image obtiene el vector característico de la imagen image\n",
    "\n",
    "    :param image: Imagen en formato vector.\n",
    "    :param iterations: Entero que indica la cantidad de veces que se aplica el wavelet a la imagen.\n",
    "    :return LL.flatten(): Vector característico en 1D.\n",
    "    \"\"\"\n",
    "    LL, (LH, HL, HH) = pywt.dwt2(image, 'haar')\n",
    "    for _ in range(iterations - 1):\n",
    "        LL, (LH, HL, HH) = pywt.dwt2(LL, 'haar')\n",
    "    return LL.flatten()\n"
   ]
  },
  {
   "cell_type": "code",
   "execution_count": 39,
   "metadata": {},
   "outputs": [],
   "source": [
    "def generate_data(src_dir, iterations, width=128, height=128):\n",
    "\n",
    "    data = []\n",
    "    file_names = []\n",
    "    fv = []\n",
    "    for class_dir in natsorted(os.listdir(src_dir)):\n",
    "        for train_img in natsorted(os.listdir(src_dir + class_dir)):\n",
    "            image_path = f\"{src_dir}{class_dir}/{train_img}\"\n",
    "            file_names.append(train_img)\n",
    "            img = Image.open(image_path)\n",
    "            fv = get_vector_from_image(img, iterations)\n",
    "            data.append(fv)\n",
    "\n",
    "    df = pd.DataFrame(data, index = file_names)\n",
    "    print(f\"Tamaño del vector caracteristica con {iterations} cortes: {len(fv)}\")\n",
    "    return df\n"
   ]
  },
  {
   "cell_type": "code",
   "execution_count": 40,
   "metadata": {},
   "outputs": [
    {
     "name": "stdout",
     "output_type": "stream",
     "text": [
      "Tamaño del vector caracteristica con 3 cortes: 480\n",
      "Tamaño del vector caracteristica con 4 cortes: 240\n",
      "Tamaño del vector caracteristica con 5 cortes: 120\n",
      "Tamaño del vector caracteristica con 6 cortes: 60\n",
      "Tamaño del vector caracteristica con 7 cortes: 60\n"
     ]
    }
   ],
   "source": [
    "for i in range(3,8):\n",
    "    data = generate_data(src_dir= IMG_PATH, iterations=i, width=512, height=512)\n",
    "    data = (data-data.min())/(data.max()-data.min())\n",
    "\n",
    "    for pos in range(len(data)):\n",
    "        data.iloc[pos].to_csv(f\"data/senales_transito/{i}_cortes/{data.index[pos][:-4]}.csv\",index=False, index_label=None, header=False)"
   ]
  },
  {
   "cell_type": "code",
   "execution_count": 41,
   "metadata": {},
   "outputs": [],
   "source": [
    "    data = []\n",
    "    \n",
    "    for train_img in natsorted(os.listdir('data/senales_transito/3_cortes/')):\n",
    "        data.append(train_img)\n",
    "    np.savetxt(\"data/senales_transito/paths.csv\", data, delimiter=',', fmt=\"%s\")\n"
   ]
  }
 ],
 "metadata": {
  "interpreter": {
   "hash": "60ba1e9c20a97bab95adc8fa7cd7536eabf7ae0f08621d987aa706dba1e5c7d3"
  },
  "kernelspec": {
   "display_name": "Python 3.7.6 ('base')",
   "language": "python",
   "name": "python3"
  },
  "language_info": {
   "codemirror_mode": {
    "name": "ipython",
    "version": 3
   },
   "file_extension": ".py",
   "mimetype": "text/x-python",
   "name": "python",
   "nbconvert_exporter": "python",
   "pygments_lexer": "ipython3",
   "version": "3.7.6"
  },
  "orig_nbformat": 4
 },
 "nbformat": 4,
 "nbformat_minor": 2
}
