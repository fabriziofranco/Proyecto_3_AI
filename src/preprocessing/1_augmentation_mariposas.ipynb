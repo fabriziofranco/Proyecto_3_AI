{
 "cells": [
  {
   "cell_type": "code",
   "execution_count": 89,
   "metadata": {},
   "outputs": [],
   "source": [
    "import pandas as pd\n",
    "import numpy as np\n",
    "import os\n",
    "from natsort import natsorted\n"
   ]
  },
  {
   "cell_type": "code",
   "execution_count": 90,
   "metadata": {},
   "outputs": [],
   "source": [
    "IMG_PATH = '../data/mariposas/'"
   ]
  },
  {
   "cell_type": "code",
   "execution_count": 91,
   "metadata": {},
   "outputs": [],
   "source": [
    "def augmentation_data(src_dir, cortes=9, iters= 10):\n",
    "\n",
    "    data = []\n",
    "    paths = []\n",
    "    for train_img in natsorted(os.listdir(src_dir + str(cortes)+ '_cortes/')):\n",
    "        path_img = src_dir + str(cortes)+ '_cortes/' + train_img\n",
    "        paths.append(path_img)\n",
    "        \n",
    "        for i in range(iters):\n",
    "            df = pd.read_csv(path_img, header=None,names=['caracteristica'])\n",
    "            df['caracteristica'] = (df['caracteristica'] + np.random.normal(0, 0.1, size=( len(df), 1)).flatten())\n",
    "            df['caracteristica'].to_csv(f\"../data/mariposas/{cortes}_cortes_augmentation/{train_img[:-4]}_v{i}.csv\",index=False, index_label=None, header=False)\n",
    "        # data.append(fv)\n",
    "    # df = pd.DataFrame(data, index =natsorted(os.listdir(src_dir + 'images/')))\n",
    "    # print(f\"Tamaño del vector caracteristica con {iterations} cortes: {len(fv)}\")\n",
    "    # return df\n",
    "\n"
   ]
  },
  {
   "cell_type": "code",
   "execution_count": 92,
   "metadata": {},
   "outputs": [],
   "source": [
    "augmentation_data(IMG_PATH,9,10)"
   ]
  },
  {
   "cell_type": "code",
   "execution_count": null,
   "metadata": {},
   "outputs": [],
   "source": [
    "data = []\n",
    "\n",
    "for train_img in natsorted(os.listdir('../data/mariposas/9_cortes_augmentation/')):\n",
    "    data.append(train_img[:-4]+\".csv\")\n",
    "np.savetxt(\"../data/mariposas/paths_augmentation.csv\", data, delimiter=',', fmt=\"%s\")"
   ]
  }
 ],
 "metadata": {
  "interpreter": {
   "hash": "60ba1e9c20a97bab95adc8fa7cd7536eabf7ae0f08621d987aa706dba1e5c7d3"
  },
  "kernelspec": {
   "display_name": "Python 3.7.6 ('base')",
   "language": "python",
   "name": "python3"
  },
  "language_info": {
   "codemirror_mode": {
    "name": "ipython",
    "version": 3
   },
   "file_extension": ".py",
   "mimetype": "text/x-python",
   "name": "python",
   "nbconvert_exporter": "python",
   "pygments_lexer": "ipython3",
   "version": "3.7.6"
  },
  "orig_nbformat": 4
 },
 "nbformat": 4,
 "nbformat_minor": 2
}
